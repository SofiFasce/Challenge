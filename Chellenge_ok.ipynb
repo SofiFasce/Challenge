{
 "cells": [
  {
   "cell_type": "code",
   "execution_count": 78,
   "metadata": {},
   "outputs": [],
   "source": [
    "import json\n",
    "import os\n",
    "\n",
    "import numpy as np\n",
    "from datetime import datetime,date\n",
    "from utils.gcp import GoogleSheetsClient\n",
    "import pandas as pd\n",
    "import json\n",
    "import numpy as np\n",
    "\n",
    "from google.cloud import bigquery\n",
    "os.environ['GOOGLE_APPLICATION_CREDENTIALS']='/Users/marianonieto/Desktop/challenge/Challenge/secret.json'\n",
    "\n",
    "with open(os.environ.get('GOOGLE_APPLICATION_CREDENTIALS')) as f:\n",
    "   secret = json.load(f)"
   ]
  },
  {
   "cell_type": "code",
   "execution_count": 79,
   "metadata": {},
   "outputs": [],
   "source": [
    "client = bigquery.Client()\n",
    "cliente_sheet=GoogleSheetsClient(secret)"
   ]
  },
  {
   "cell_type": "code",
   "execution_count": null,
   "metadata": {},
   "outputs": [],
   "source": [
    "def execute_response(client,query):\n",
    "    rows=client.query(query).result()\n",
    "    df=[dict(row) for row in rows]\n",
    "    return df"
   ]
  },
  {
   "cell_type": "markdown",
   "metadata": {},
   "source": [
    "### Limpio csv "
   ]
  },
  {
   "cell_type": "markdown",
   "metadata": {},
   "source": [
    "#### Loan Data"
   ]
  },
  {
   "cell_type": "code",
   "execution_count": 52,
   "metadata": {},
   "outputs": [],
   "source": [
    "df=pd.read_csv('loan_data.csv')"
   ]
  },
  {
   "cell_type": "code",
   "execution_count": 53,
   "metadata": {},
   "outputs": [
    {
     "data": {
      "text/html": [
       "<div>\n",
       "<style scoped>\n",
       "    .dataframe tbody tr th:only-of-type {\n",
       "        vertical-align: middle;\n",
       "    }\n",
       "\n",
       "    .dataframe tbody tr th {\n",
       "        vertical-align: top;\n",
       "    }\n",
       "\n",
       "    .dataframe thead th {\n",
       "        text-align: right;\n",
       "    }\n",
       "</style>\n",
       "<table border=\"1\" class=\"dataframe\">\n",
       "  <thead>\n",
       "    <tr style=\"text-align: right;\">\n",
       "      <th></th>\n",
       "      <th>customer_id</th>\n",
       "      <th>loan_id</th>\n",
       "      <th>application_date</th>\n",
       "      <th>term</th>\n",
       "      <th>disbursed_date</th>\n",
       "      <th>loanamount</th>\n",
       "      <th>paid_date</th>\n",
       "      <th>is_disbursed</th>\n",
       "    </tr>\n",
       "  </thead>\n",
       "  <tbody>\n",
       "    <tr>\n",
       "      <th>3873</th>\n",
       "      <td>5y4204g78g6yh5h24g9788zz</td>\n",
       "      <td>loan_7641841</td>\n",
       "      <td>24/03/22 18:18</td>\n",
       "      <td>6.0</td>\n",
       "      <td>24/03/22</td>\n",
       "      <td>1750.540</td>\n",
       "      <td>NaN</td>\n",
       "      <td>True</td>\n",
       "    </tr>\n",
       "    <tr>\n",
       "      <th>429</th>\n",
       "      <td>620g9i6810xi62i450y0141i</td>\n",
       "      <td>loan_2951846</td>\n",
       "      <td>16/02/22 19:49</td>\n",
       "      <td>NaN</td>\n",
       "      <td>NaN</td>\n",
       "      <td>1459.270</td>\n",
       "      <td>NaN</td>\n",
       "      <td>False</td>\n",
       "    </tr>\n",
       "    <tr>\n",
       "      <th>3658</th>\n",
       "      <td>61zx51573z4gizi9254yhxih</td>\n",
       "      <td>loan_2950183</td>\n",
       "      <td>04/01/22 10:01</td>\n",
       "      <td>NaN</td>\n",
       "      <td>NaN</td>\n",
       "      <td>6569.270</td>\n",
       "      <td>NaN</td>\n",
       "      <td>False</td>\n",
       "    </tr>\n",
       "    <tr>\n",
       "      <th>3354</th>\n",
       "      <td>60i49ghgg160z0i56g871144</td>\n",
       "      <td>loan_7667104</td>\n",
       "      <td>29/11/21 14:30</td>\n",
       "      <td>NaN</td>\n",
       "      <td>NaN</td>\n",
       "      <td>2771.810</td>\n",
       "      <td>NaN</td>\n",
       "      <td>False</td>\n",
       "    </tr>\n",
       "    <tr>\n",
       "      <th>637</th>\n",
       "      <td>61z021001088yg21z299443y</td>\n",
       "      <td>loan_4814599</td>\n",
       "      <td>30/03/22 13:45</td>\n",
       "      <td>8.0</td>\n",
       "      <td>30/03/22</td>\n",
       "      <td>1136.464</td>\n",
       "      <td>NaN</td>\n",
       "      <td>True</td>\n",
       "    </tr>\n",
       "  </tbody>\n",
       "</table>\n",
       "</div>"
      ],
      "text/plain": [
       "                   customer_id       loan_id application_date  term  \\\n",
       "3873  5y4204g78g6yh5h24g9788zz  loan_7641841   24/03/22 18:18   6.0   \n",
       "429   620g9i6810xi62i450y0141i  loan_2951846   16/02/22 19:49   NaN   \n",
       "3658  61zx51573z4gizi9254yhxih  loan_2950183   04/01/22 10:01   NaN   \n",
       "3354  60i49ghgg160z0i56g871144  loan_7667104   29/11/21 14:30   NaN   \n",
       "637   61z021001088yg21z299443y  loan_4814599   30/03/22 13:45   8.0   \n",
       "\n",
       "     disbursed_date  loanamount paid_date  is_disbursed  \n",
       "3873       24/03/22    1750.540       NaN          True  \n",
       "429             NaN    1459.270       NaN         False  \n",
       "3658            NaN    6569.270       NaN         False  \n",
       "3354            NaN    2771.810       NaN         False  \n",
       "637        30/03/22    1136.464       NaN          True  "
      ]
     },
     "execution_count": 53,
     "metadata": {},
     "output_type": "execute_result"
    }
   ],
   "source": [
    "df.sample(5)"
   ]
  },
  {
   "cell_type": "code",
   "execution_count": 54,
   "metadata": {},
   "outputs": [],
   "source": [
    "#df.replace({np.nan: None}, inplace = True)\n",
    "df['application_date']=pd.to_datetime(df['application_date'], format='%d/%m/%y %H:%M')#.dt.tz_localize('America/Mexico_City')\n",
    "#df['application_date_2']=pd.to_datetime(df['application_date'], format='%d/%m/%y %H:%M')\n",
    "df['disbursed_date']=pd.to_datetime(df['disbursed_date'], format='%d/%m/%y').dt.strftime(\"%Y/%m/%d\")\n",
    "df['paid_date']=pd.to_datetime(df['paid_date'], format='%d/%m/%y').dt.strftime(\"%Y/%m/%d\")\n",
    "\n",
    "df.replace({np.nan: None}, inplace = True)\n"
   ]
  },
  {
   "cell_type": "code",
   "execution_count": 55,
   "metadata": {},
   "outputs": [
    {
     "data": {
      "text/html": [
       "<div>\n",
       "<style scoped>\n",
       "    .dataframe tbody tr th:only-of-type {\n",
       "        vertical-align: middle;\n",
       "    }\n",
       "\n",
       "    .dataframe tbody tr th {\n",
       "        vertical-align: top;\n",
       "    }\n",
       "\n",
       "    .dataframe thead th {\n",
       "        text-align: right;\n",
       "    }\n",
       "</style>\n",
       "<table border=\"1\" class=\"dataframe\">\n",
       "  <thead>\n",
       "    <tr style=\"text-align: right;\">\n",
       "      <th></th>\n",
       "      <th>customer_id</th>\n",
       "      <th>loan_id</th>\n",
       "      <th>application_date</th>\n",
       "      <th>term</th>\n",
       "      <th>disbursed_date</th>\n",
       "      <th>loanamount</th>\n",
       "      <th>paid_date</th>\n",
       "      <th>is_disbursed</th>\n",
       "    </tr>\n",
       "  </thead>\n",
       "  <tbody>\n",
       "    <tr>\n",
       "      <th>11868</th>\n",
       "      <td>619y41999zxz088yix5997z9</td>\n",
       "      <td>loan_4314339</td>\n",
       "      <td>2021-11-24 16:05:00</td>\n",
       "      <td>4.0</td>\n",
       "      <td>2021/11/24</td>\n",
       "      <td>5313.9255</td>\n",
       "      <td>2022/01/29</td>\n",
       "      <td>True</td>\n",
       "    </tr>\n",
       "    <tr>\n",
       "      <th>6669</th>\n",
       "      <td>619g7yz8860iiy791x14i342</td>\n",
       "      <td>loan_4708742</td>\n",
       "      <td>2022-01-27 16:02:00</td>\n",
       "      <td>None</td>\n",
       "      <td>None</td>\n",
       "      <td>9343.27</td>\n",
       "      <td>None</td>\n",
       "      <td>False</td>\n",
       "    </tr>\n",
       "    <tr>\n",
       "      <th>2615</th>\n",
       "      <td>5g96x6iigz030z729yx3hy95</td>\n",
       "      <td>loan_1238551</td>\n",
       "      <td>2022-04-13 22:24:00</td>\n",
       "      <td>8.0</td>\n",
       "      <td>2022/04/13</td>\n",
       "      <td>1605.27</td>\n",
       "      <td>None</td>\n",
       "      <td>True</td>\n",
       "    </tr>\n",
       "    <tr>\n",
       "      <th>1906</th>\n",
       "      <td>621i1y5yxhzz379i177568xh</td>\n",
       "      <td>loan_7330329</td>\n",
       "      <td>2022-03-29 18:59:00</td>\n",
       "      <td>None</td>\n",
       "      <td>None</td>\n",
       "      <td>6345.89</td>\n",
       "      <td>None</td>\n",
       "      <td>False</td>\n",
       "    </tr>\n",
       "    <tr>\n",
       "      <th>8391</th>\n",
       "      <td>61944y3iih59xg26zy21yih2</td>\n",
       "      <td>loan_6254910</td>\n",
       "      <td>2022-04-23 12:59:00</td>\n",
       "      <td>None</td>\n",
       "      <td>None</td>\n",
       "      <td>1923.55</td>\n",
       "      <td>None</td>\n",
       "      <td>False</td>\n",
       "    </tr>\n",
       "  </tbody>\n",
       "</table>\n",
       "</div>"
      ],
      "text/plain": [
       "                    customer_id       loan_id    application_date  term  \\\n",
       "11868  619y41999zxz088yix5997z9  loan_4314339 2021-11-24 16:05:00   4.0   \n",
       "6669   619g7yz8860iiy791x14i342  loan_4708742 2022-01-27 16:02:00  None   \n",
       "2615   5g96x6iigz030z729yx3hy95  loan_1238551 2022-04-13 22:24:00   8.0   \n",
       "1906   621i1y5yxhzz379i177568xh  loan_7330329 2022-03-29 18:59:00  None   \n",
       "8391   61944y3iih59xg26zy21yih2  loan_6254910 2022-04-23 12:59:00  None   \n",
       "\n",
       "      disbursed_date loanamount   paid_date  is_disbursed  \n",
       "11868     2021/11/24  5313.9255  2022/01/29          True  \n",
       "6669            None    9343.27        None         False  \n",
       "2615      2022/04/13    1605.27        None          True  \n",
       "1906            None    6345.89        None         False  \n",
       "8391            None    1923.55        None         False  "
      ]
     },
     "execution_count": 55,
     "metadata": {},
     "output_type": "execute_result"
    }
   ],
   "source": [
    "df.sample(5)"
   ]
  },
  {
   "cell_type": "code",
   "execution_count": 56,
   "metadata": {},
   "outputs": [],
   "source": [
    "df.to_csv('loan_data_ok.csv',index=False)"
   ]
  },
  {
   "cell_type": "code",
   "execution_count": 57,
   "metadata": {},
   "outputs": [],
   "source": [
    "#folder_id='1GO-vprPsG5kdCcj5HpbZB0v-lTFv92Le'\n",
    "sheets_id='10v9266PP-kRDvJLucrrhdGv5U1NWrzFr_gC9ASz747c'"
   ]
  },
  {
   "cell_type": "code",
   "execution_count": 58,
   "metadata": {},
   "outputs": [],
   "source": [
    "df=pd.read_csv('loan_data_ok.csv')"
   ]
  },
  {
   "cell_type": "code",
   "execution_count": 59,
   "metadata": {},
   "outputs": [],
   "source": [
    "df.replace({np.nan: None}, inplace = True)"
   ]
  },
  {
   "cell_type": "code",
   "execution_count": 60,
   "metadata": {},
   "outputs": [
    {
     "data": {
      "text/html": [
       "<div>\n",
       "<style scoped>\n",
       "    .dataframe tbody tr th:only-of-type {\n",
       "        vertical-align: middle;\n",
       "    }\n",
       "\n",
       "    .dataframe tbody tr th {\n",
       "        vertical-align: top;\n",
       "    }\n",
       "\n",
       "    .dataframe thead th {\n",
       "        text-align: right;\n",
       "    }\n",
       "</style>\n",
       "<table border=\"1\" class=\"dataframe\">\n",
       "  <thead>\n",
       "    <tr style=\"text-align: right;\">\n",
       "      <th></th>\n",
       "      <th>customer_id</th>\n",
       "      <th>loan_id</th>\n",
       "      <th>application_date</th>\n",
       "      <th>term</th>\n",
       "      <th>disbursed_date</th>\n",
       "      <th>loanamount</th>\n",
       "      <th>paid_date</th>\n",
       "      <th>is_disbursed</th>\n",
       "    </tr>\n",
       "  </thead>\n",
       "  <tbody>\n",
       "    <tr>\n",
       "      <th>11838</th>\n",
       "      <td>61hx0xy83h3zy65341z45g9h</td>\n",
       "      <td>loan_5945865</td>\n",
       "      <td>2022-04-26 22:43:00</td>\n",
       "      <td>8.0</td>\n",
       "      <td>2022/04/26</td>\n",
       "      <td>1896.54</td>\n",
       "      <td>None</td>\n",
       "      <td>True</td>\n",
       "    </tr>\n",
       "    <tr>\n",
       "      <th>5762</th>\n",
       "      <td>5h1yxz2h69x6723y815yi293</td>\n",
       "      <td>loan_3807365</td>\n",
       "      <td>2021-11-29 14:46:00</td>\n",
       "      <td>None</td>\n",
       "      <td>None</td>\n",
       "      <td>6305.74</td>\n",
       "      <td>None</td>\n",
       "      <td>False</td>\n",
       "    </tr>\n",
       "    <tr>\n",
       "      <th>12772</th>\n",
       "      <td>5x32x39zxz02g0222yz9561i</td>\n",
       "      <td>loan_8884125</td>\n",
       "      <td>2022-03-21 20:08:00</td>\n",
       "      <td>6.0</td>\n",
       "      <td>2022/03/21</td>\n",
       "      <td>2176.13</td>\n",
       "      <td>None</td>\n",
       "      <td>True</td>\n",
       "    </tr>\n",
       "    <tr>\n",
       "      <th>9769</th>\n",
       "      <td>60z67h54gy528hi4321954i2</td>\n",
       "      <td>loan_5502588</td>\n",
       "      <td>2021-12-30 21:55:00</td>\n",
       "      <td>None</td>\n",
       "      <td>None</td>\n",
       "      <td>3639.05</td>\n",
       "      <td>None</td>\n",
       "      <td>False</td>\n",
       "    </tr>\n",
       "    <tr>\n",
       "      <th>7931</th>\n",
       "      <td>621z8482z227h922gi534665</td>\n",
       "      <td>loan_1174335</td>\n",
       "      <td>2022-02-26 13:55:00</td>\n",
       "      <td>None</td>\n",
       "      <td>None</td>\n",
       "      <td>6788.27</td>\n",
       "      <td>None</td>\n",
       "      <td>False</td>\n",
       "    </tr>\n",
       "    <tr>\n",
       "      <th>1562</th>\n",
       "      <td>6192ix8i470ixhz13i44yh94</td>\n",
       "      <td>loan_5430192</td>\n",
       "      <td>2021-11-29 19:40:00</td>\n",
       "      <td>None</td>\n",
       "      <td>None</td>\n",
       "      <td>5109.27</td>\n",
       "      <td>None</td>\n",
       "      <td>False</td>\n",
       "    </tr>\n",
       "    <tr>\n",
       "      <th>2119</th>\n",
       "      <td>5y37099xg731076zh22539i7</td>\n",
       "      <td>loan_1604514</td>\n",
       "      <td>2021-12-24 12:09:00</td>\n",
       "      <td>4.0</td>\n",
       "      <td>2021/12/24</td>\n",
       "      <td>557.8952</td>\n",
       "      <td>None</td>\n",
       "      <td>True</td>\n",
       "    </tr>\n",
       "    <tr>\n",
       "      <th>4230</th>\n",
       "      <td>618xx677yy496x3479688007</td>\n",
       "      <td>loan_9926977</td>\n",
       "      <td>2022-04-13 06:44:00</td>\n",
       "      <td>None</td>\n",
       "      <td>None</td>\n",
       "      <td>5537.05</td>\n",
       "      <td>None</td>\n",
       "      <td>False</td>\n",
       "    </tr>\n",
       "    <tr>\n",
       "      <th>9751</th>\n",
       "      <td>6067h0xg0zgzxhg6462yyx52</td>\n",
       "      <td>loan_1866656</td>\n",
       "      <td>2022-02-18 20:45:00</td>\n",
       "      <td>4.0</td>\n",
       "      <td>2022/02/18</td>\n",
       "      <td>639.2683</td>\n",
       "      <td>2022/04/16</td>\n",
       "      <td>True</td>\n",
       "    </tr>\n",
       "    <tr>\n",
       "      <th>8431</th>\n",
       "      <td>62200yy3z3835g847i04i119</td>\n",
       "      <td>loan_0409323</td>\n",
       "      <td>2022-04-15 21:09:00</td>\n",
       "      <td>None</td>\n",
       "      <td>None</td>\n",
       "      <td>2952.8135</td>\n",
       "      <td>None</td>\n",
       "      <td>False</td>\n",
       "    </tr>\n",
       "  </tbody>\n",
       "</table>\n",
       "</div>"
      ],
      "text/plain": [
       "                    customer_id       loan_id     application_date  term  \\\n",
       "11838  61hx0xy83h3zy65341z45g9h  loan_5945865  2022-04-26 22:43:00   8.0   \n",
       "5762   5h1yxz2h69x6723y815yi293  loan_3807365  2021-11-29 14:46:00  None   \n",
       "12772  5x32x39zxz02g0222yz9561i  loan_8884125  2022-03-21 20:08:00   6.0   \n",
       "9769   60z67h54gy528hi4321954i2  loan_5502588  2021-12-30 21:55:00  None   \n",
       "7931   621z8482z227h922gi534665  loan_1174335  2022-02-26 13:55:00  None   \n",
       "1562   6192ix8i470ixhz13i44yh94  loan_5430192  2021-11-29 19:40:00  None   \n",
       "2119   5y37099xg731076zh22539i7  loan_1604514  2021-12-24 12:09:00   4.0   \n",
       "4230   618xx677yy496x3479688007  loan_9926977  2022-04-13 06:44:00  None   \n",
       "9751   6067h0xg0zgzxhg6462yyx52  loan_1866656  2022-02-18 20:45:00   4.0   \n",
       "8431   62200yy3z3835g847i04i119  loan_0409323  2022-04-15 21:09:00  None   \n",
       "\n",
       "      disbursed_date loanamount   paid_date  is_disbursed  \n",
       "11838     2022/04/26    1896.54        None          True  \n",
       "5762            None    6305.74        None         False  \n",
       "12772     2022/03/21    2176.13        None          True  \n",
       "9769            None    3639.05        None         False  \n",
       "7931            None    6788.27        None         False  \n",
       "1562            None    5109.27        None         False  \n",
       "2119      2021/12/24   557.8952        None          True  \n",
       "4230            None    5537.05        None         False  \n",
       "9751      2022/02/18   639.2683  2022/04/16          True  \n",
       "8431            None  2952.8135        None         False  "
      ]
     },
     "execution_count": 60,
     "metadata": {},
     "output_type": "execute_result"
    }
   ],
   "source": [
    "df.sample(10)"
   ]
  },
  {
   "cell_type": "code",
   "execution_count": 62,
   "metadata": {},
   "outputs": [
    {
     "data": {
      "text/plain": [
       "{'spreadsheetId': '10v9266PP-kRDvJLucrrhdGv5U1NWrzFr_gC9ASz747c',\n",
       " 'replies': [{}]}"
      ]
     },
     "execution_count": 62,
     "metadata": {},
     "output_type": "execute_result"
    }
   ],
   "source": [
    "cliente_sheet.delete_columns(sheets_id, 'loan_data', 0,len(df.columns))"
   ]
  },
  {
   "cell_type": "code",
   "execution_count": 63,
   "metadata": {},
   "outputs": [
    {
     "name": "stdout",
     "output_type": "stream",
     "text": [
      "Uploading sheet \n"
     ]
    },
    {
     "data": {
      "text/plain": [
       "{'spreadsheetId': '10v9266PP-kRDvJLucrrhdGv5U1NWrzFr_gC9ASz747c',\n",
       " 'updates': {'spreadsheetId': '10v9266PP-kRDvJLucrrhdGv5U1NWrzFr_gC9ASz747c',\n",
       "  'updatedRange': 'loan_data!A1:H13168',\n",
       "  'updatedRows': 13168,\n",
       "  'updatedColumns': 8,\n",
       "  'updatedCells': 78422}}"
      ]
     },
     "execution_count": 63,
     "metadata": {},
     "output_type": "execute_result"
    }
   ],
   "source": [
    "\n",
    "print(f\"Uploading sheet \")\n",
    "cliente_sheet.upload_dataframe_to_spreadsheet(\n",
    "    df, sheets_id, tab_name=f\"loan_data\", start_cell=\"A1\"\n",
    ")"
   ]
  },
  {
   "cell_type": "code",
   "execution_count": 70,
   "metadata": {},
   "outputs": [],
   "source": [
    "#cliente_sheet.grant_permissions('1BFF-feWGcFhlIe1ZPFmFDdCzbAyR0Z8TIL69y7fiKvU', \"writer\", 'sofia.fsc.challenge@gmail.com')"
   ]
  },
  {
   "cell_type": "markdown",
   "metadata": {},
   "source": [
    "#### Repayment data"
   ]
  },
  {
   "cell_type": "code",
   "execution_count": 64,
   "metadata": {},
   "outputs": [],
   "source": [
    "repayment=pd.read_csv('repayment_data.csv')"
   ]
  },
  {
   "cell_type": "code",
   "execution_count": 65,
   "metadata": {},
   "outputs": [
    {
     "data": {
      "text/html": [
       "<div>\n",
       "<style scoped>\n",
       "    .dataframe tbody tr th:only-of-type {\n",
       "        vertical-align: middle;\n",
       "    }\n",
       "\n",
       "    .dataframe tbody tr th {\n",
       "        vertical-align: top;\n",
       "    }\n",
       "\n",
       "    .dataframe thead th {\n",
       "        text-align: right;\n",
       "    }\n",
       "</style>\n",
       "<table border=\"1\" class=\"dataframe\">\n",
       "  <thead>\n",
       "    <tr style=\"text-align: right;\">\n",
       "      <th></th>\n",
       "      <th>loan_id</th>\n",
       "      <th>installment_id</th>\n",
       "      <th>installment_number</th>\n",
       "      <th>installment_duedate</th>\n",
       "      <th>repaid_date</th>\n",
       "      <th>capital_due</th>\n",
       "      <th>capital_paid</th>\n",
       "      <th>interests_paid</th>\n",
       "    </tr>\n",
       "  </thead>\n",
       "  <tbody>\n",
       "    <tr>\n",
       "      <th>5220</th>\n",
       "      <td>loan_9631339</td>\n",
       "      <td>8z7804i87i408701017i430zx07i0843</td>\n",
       "      <td>1</td>\n",
       "      <td>2022-03-15</td>\n",
       "      <td>2022-03-14</td>\n",
       "      <td>100.7400</td>\n",
       "      <td>100.7400</td>\n",
       "      <td>0.00</td>\n",
       "    </tr>\n",
       "    <tr>\n",
       "      <th>6857</th>\n",
       "      <td>loan_5213688</td>\n",
       "      <td>8z782ii57yy6x22x017yy8h8ygzi1188</td>\n",
       "      <td>2</td>\n",
       "      <td>2021-11-30</td>\n",
       "      <td>2021-11-30</td>\n",
       "      <td>206.7287</td>\n",
       "      <td>206.7287</td>\n",
       "      <td>72.81</td>\n",
       "    </tr>\n",
       "    <tr>\n",
       "      <th>15456</th>\n",
       "      <td>loan_8281943</td>\n",
       "      <td>8z780i5i7x34g32y017x3599gzh34g97</td>\n",
       "      <td>3</td>\n",
       "      <td>2022-02-15</td>\n",
       "      <td>NaN</td>\n",
       "      <td>326.7115</td>\n",
       "      <td>207.7215</td>\n",
       "      <td>168.45</td>\n",
       "    </tr>\n",
       "    <tr>\n",
       "      <th>18645</th>\n",
       "      <td>loan_8681724</td>\n",
       "      <td>8z780y0x7xg58431017xg94h261g3503</td>\n",
       "      <td>2</td>\n",
       "      <td>2022-02-28</td>\n",
       "      <td>NaN</td>\n",
       "      <td>719.2982</td>\n",
       "      <td>0.0000</td>\n",
       "      <td>0.00</td>\n",
       "    </tr>\n",
       "    <tr>\n",
       "      <th>7910</th>\n",
       "      <td>loan_2046468</td>\n",
       "      <td>8z780831801h522801802502001z01i2</td>\n",
       "      <td>1</td>\n",
       "      <td>2022-05-02</td>\n",
       "      <td>2022-05-02</td>\n",
       "      <td>559.1800</td>\n",
       "      <td>559.1800</td>\n",
       "      <td>0.00</td>\n",
       "    </tr>\n",
       "  </tbody>\n",
       "</table>\n",
       "</div>"
      ],
      "text/plain": [
       "            loan_id                    installment_id  installment_number  \\\n",
       "5220   loan_9631339  8z7804i87i408701017i430zx07i0843                   1   \n",
       "6857   loan_5213688  8z782ii57yy6x22x017yy8h8ygzi1188                   2   \n",
       "15456  loan_8281943  8z780i5i7x34g32y017x3599gzh34g97                   3   \n",
       "18645  loan_8681724  8z780y0x7xg58431017xg94h261g3503                   2   \n",
       "7910   loan_2046468  8z780831801h522801802502001z01i2                   1   \n",
       "\n",
       "      installment_duedate repaid_date  capital_due  capital_paid  \\\n",
       "5220           2022-03-15  2022-03-14     100.7400      100.7400   \n",
       "6857           2021-11-30  2021-11-30     206.7287      206.7287   \n",
       "15456          2022-02-15         NaN     326.7115      207.7215   \n",
       "18645          2022-02-28         NaN     719.2982        0.0000   \n",
       "7910           2022-05-02  2022-05-02     559.1800      559.1800   \n",
       "\n",
       "       interests_paid  \n",
       "5220             0.00  \n",
       "6857            72.81  \n",
       "15456          168.45  \n",
       "18645            0.00  \n",
       "7910             0.00  "
      ]
     },
     "execution_count": 65,
     "metadata": {},
     "output_type": "execute_result"
    }
   ],
   "source": [
    "repayment.sample(5)"
   ]
  },
  {
   "cell_type": "code",
   "execution_count": 68,
   "metadata": {},
   "outputs": [],
   "source": [
    "\n",
    "\n",
    "repayment['installment_duedate']=pd.to_datetime(repayment['installment_duedate'], format='%Y-%m-%d').dt.strftime(\"%Y-%m-%d\")\n",
    "repayment['repaid_date']=pd.to_datetime(repayment['repaid_date'], format='%Y-%m-%d').dt.strftime(\"%Y-%m-%d\")\n",
    "\n",
    "repayment.replace({np.nan: None}, inplace = True)"
   ]
  },
  {
   "cell_type": "code",
   "execution_count": 69,
   "metadata": {},
   "outputs": [
    {
     "data": {
      "text/html": [
       "<div>\n",
       "<style scoped>\n",
       "    .dataframe tbody tr th:only-of-type {\n",
       "        vertical-align: middle;\n",
       "    }\n",
       "\n",
       "    .dataframe tbody tr th {\n",
       "        vertical-align: top;\n",
       "    }\n",
       "\n",
       "    .dataframe thead th {\n",
       "        text-align: right;\n",
       "    }\n",
       "</style>\n",
       "<table border=\"1\" class=\"dataframe\">\n",
       "  <thead>\n",
       "    <tr style=\"text-align: right;\">\n",
       "      <th></th>\n",
       "      <th>loan_id</th>\n",
       "      <th>installment_id</th>\n",
       "      <th>installment_number</th>\n",
       "      <th>installment_duedate</th>\n",
       "      <th>repaid_date</th>\n",
       "      <th>capital_due</th>\n",
       "      <th>capital_paid</th>\n",
       "      <th>interests_paid</th>\n",
       "    </tr>\n",
       "  </thead>\n",
       "  <tbody>\n",
       "    <tr>\n",
       "      <th>28610</th>\n",
       "      <td>loan_1164986</td>\n",
       "      <td>8z7807z37h5y79h2017h601747x26238</td>\n",
       "      <td>1</td>\n",
       "      <td>2021-12-15</td>\n",
       "      <td>2021-12-12</td>\n",
       "      <td>415.3700</td>\n",
       "      <td>415.37</td>\n",
       "      <td>0.0</td>\n",
       "    </tr>\n",
       "    <tr>\n",
       "      <th>11746</th>\n",
       "      <td>loan_9187700</td>\n",
       "      <td>8z7806h27x9gy1yy017x9hy31xh178x3</td>\n",
       "      <td>4</td>\n",
       "      <td>2022-03-31</td>\n",
       "      <td>2022-03-30</td>\n",
       "      <td>230.6800</td>\n",
       "      <td>230.68</td>\n",
       "      <td>0.0</td>\n",
       "    </tr>\n",
       "    <tr>\n",
       "      <th>17783</th>\n",
       "      <td>loan_4818189</td>\n",
       "      <td>8z782i8z7ixi704i017ii1g27223060h</td>\n",
       "      <td>4</td>\n",
       "      <td>2022-05-31</td>\n",
       "      <td>None</td>\n",
       "      <td>135.9625</td>\n",
       "      <td>0.00</td>\n",
       "      <td>0.0</td>\n",
       "    </tr>\n",
       "    <tr>\n",
       "      <th>24915</th>\n",
       "      <td>loan_5045805</td>\n",
       "      <td>8z78034h7iyg91zz017iyxy39g9628g1</td>\n",
       "      <td>4</td>\n",
       "      <td>2022-05-31</td>\n",
       "      <td>None</td>\n",
       "      <td>870.8900</td>\n",
       "      <td>0.00</td>\n",
       "      <td>0.0</td>\n",
       "    </tr>\n",
       "    <tr>\n",
       "      <th>363</th>\n",
       "      <td>loan_0256495</td>\n",
       "      <td>8z782hy97y5ixz5z017y61h1h279765i</td>\n",
       "      <td>7</td>\n",
       "      <td>2022-01-31</td>\n",
       "      <td>2022-01-31</td>\n",
       "      <td>315.3600</td>\n",
       "      <td>315.36</td>\n",
       "      <td>0.0</td>\n",
       "    </tr>\n",
       "  </tbody>\n",
       "</table>\n",
       "</div>"
      ],
      "text/plain": [
       "            loan_id                    installment_id  installment_number  \\\n",
       "28610  loan_1164986  8z7807z37h5y79h2017h601747x26238                   1   \n",
       "11746  loan_9187700  8z7806h27x9gy1yy017x9hy31xh178x3                   4   \n",
       "17783  loan_4818189  8z782i8z7ixi704i017ii1g27223060h                   4   \n",
       "24915  loan_5045805  8z78034h7iyg91zz017iyxy39g9628g1                   4   \n",
       "363    loan_0256495  8z782hy97y5ixz5z017y61h1h279765i                   7   \n",
       "\n",
       "      installment_duedate repaid_date  capital_due  capital_paid  \\\n",
       "28610          2021-12-15  2021-12-12     415.3700        415.37   \n",
       "11746          2022-03-31  2022-03-30     230.6800        230.68   \n",
       "17783          2022-05-31        None     135.9625          0.00   \n",
       "24915          2022-05-31        None     870.8900          0.00   \n",
       "363            2022-01-31  2022-01-31     315.3600        315.36   \n",
       "\n",
       "       interests_paid  \n",
       "28610             0.0  \n",
       "11746             0.0  \n",
       "17783             0.0  \n",
       "24915             0.0  \n",
       "363               0.0  "
      ]
     },
     "execution_count": 69,
     "metadata": {},
     "output_type": "execute_result"
    }
   ],
   "source": [
    "repayment.sample(5)"
   ]
  },
  {
   "cell_type": "code",
   "execution_count": 72,
   "metadata": {},
   "outputs": [],
   "source": [
    "sheet_id_repayment='1ypPjTFlYmywHATaznm9E8oCrDeSA_cGc7wL3PpDDors'\n"
   ]
  },
  {
   "cell_type": "code",
   "execution_count": null,
   "metadata": {},
   "outputs": [],
   "source": [
    "cliente_sheet.delete_columns(sheet_id_repayment, 'repayment_data', 0,len(repayment.columns))"
   ]
  },
  {
   "cell_type": "code",
   "execution_count": 77,
   "metadata": {},
   "outputs": [
    {
     "name": "stdout",
     "output_type": "stream",
     "text": [
      "Uploading sheet \n"
     ]
    },
    {
     "data": {
      "text/plain": [
       "{'spreadsheetId': '1ypPjTFlYmywHATaznm9E8oCrDeSA_cGc7wL3PpDDors',\n",
       " 'updates': {'spreadsheetId': '1ypPjTFlYmywHATaznm9E8oCrDeSA_cGc7wL3PpDDors',\n",
       "  'updatedRange': 'repayment_data!A1:H29437',\n",
       "  'updatedRows': 29437,\n",
       "  'updatedColumns': 8,\n",
       "  'updatedCells': 222840}}"
      ]
     },
     "execution_count": 77,
     "metadata": {},
     "output_type": "execute_result"
    }
   ],
   "source": [
    "\n",
    "print(f\"Uploading sheet \")\n",
    "cliente_sheet.upload_dataframe_to_spreadsheet(\n",
    "    repayment, sheet_id_repayment, tab_name=\"repayment_data\", start_cell=\"A1\"\n",
    ")"
   ]
  },
  {
   "cell_type": "markdown",
   "metadata": {},
   "source": [
    "## Generación tablas productivas\n",
    "Una vez que se realiza la tabla de STG apuntando al google Sheet, se terminan de definir los tipos de datos de las columnas y se genera una tabla productiva"
   ]
  },
  {
   "cell_type": "code",
   "execution_count": null,
   "metadata": {},
   "outputs": [],
   "source": [
    "query_productive_loan_data=\"\"\"create or replace table PROD.BT_LOAN_DATA as \n",
    "                                SELECT customer_id,loan_id,\n",
    "                                DATETIME(application_date, 'America/Mexico_City') as application_date,\n",
    "                                cast(term as int) as term,\n",
    "                                PARSE_DATE ('%Y/%m/%d',disbursed_date) as disbursed_date,\n",
    "                                cast(loanamount as numeric) as loanamount ,\n",
    "                                PARSE_DATE ('%Y/%m/%d',paid_date) as paid_date,\n",
    "                                cast(is_disbursed as bool) as is_disbursed\n",
    "                                FROM `sofia-fasce.STG.BT_LOAN_DATA`\"\"\" \n",
    "\n"
   ]
  },
  {
   "cell_type": "code",
   "execution_count": null,
   "metadata": {},
   "outputs": [],
   "source": [
    "query_productive_repayment_data= \"\"\"create or replace table `sofia-fasce.PROD.BT_REPAYMENT_DATA` as \n",
    "                                SELECT \n",
    "                                loan_id,\t\n",
    "                                installment_id,\n",
    "                                cast(installment_number as int) as installment_number,\n",
    "                                installment_duedate,\n",
    "                                repaid_date,\n",
    "                                cast(capital_due as numeric) as capital_due ,\n",
    "                                cast(capital_paid as numeric) as capital_paid ,\n",
    "                                cast(interests_paid as numeric) as interests_paid \n",
    "                                FROM `sofia-fasce.STG.BT_REPAYMENT_DATA`\"\"\""
   ]
  },
  {
   "cell_type": "code",
   "execution_count": null,
   "metadata": {},
   "outputs": [],
   "source": [
    "query_recurrence=\"\"\"create table PROD.BT_RECURRENCE AS\n",
    "with loan_data as (\n",
    "select a.*,\n",
    "row_number() over (partition by customer_id order by disbursed_date) recurrence_1,\n",
    "case when min(paid_date) over (partition by customer_id order by disbursed_date  ROWS UNBOUNDED PRECEDING )<= disbursed_date then 1 else 0 end as paid_any_loan_last\n",
    "  from `PROD.BT_LOAN_DATA` a\n",
    "  where \n",
    "  \n",
    "  is_disbursed=true\n",
    "),\n",
    "repay_complete_data as (\n",
    " select a.customer_id\t,\n",
    "        a.loan_id\t,\n",
    "        a.term,\n",
    "        a.disbursed_date\t,\n",
    "        a.paid_date\t,\n",
    "        a.recurrence_1\t,\n",
    "        a.paid_any_loan_last\t,\n",
    "        b.installment_number\t,\n",
    "        b.repaid_date\t\n",
    " from loan_data a\n",
    "   join `PROD.BT_REPAYMENT_DATA` b on a.loan_id=b.loan_id\n",
    ")\n",
    "select customer_id,loan_id,recurrence_1,case when first_loan_3_or_more_terms=1 or paid_any_loan_last=1 then True else False end as recurrence_2   from (\n",
    "select * ,\n",
    "case when min(case when recurrence_1=1\tand\tinstallment_number>=3 then\trepaid_date else null end) over(partition by customer_id order by disbursed_date  ROWS UNBOUNDED PRECEDING ) <=disbursed_date then 1 else 0 end first_loan_3_or_more_terms\n",
    "from repay_complete_data\n",
    ") group by 1,2,3,4\n",
    "\"\"\""
   ]
  },
  {
   "cell_type": "markdown",
   "metadata": {},
   "source": [
    "### Control de cantidades"
   ]
  },
  {
   "cell_type": "code",
   "execution_count": null,
   "metadata": {},
   "outputs": [],
   "source": []
  },
  {
   "cell_type": "markdown",
   "metadata": {},
   "source": [
    "### Idea inicial \n",
    "Limpiar los datos con python y volcar la información directo a la tabla en BQ, el problema que se presentó es que en la versión trial de BQ no se permite el insert de datos.\n",
    "La solución fue limpiar en Python, hacer una volcada de datos en google sheet desde python y apuntar una tabla desde BQ al Gsheet."
   ]
  },
  {
   "cell_type": "code",
   "execution_count": 34,
   "metadata": {},
   "outputs": [],
   "source": [
    "table=client.get_table('sofia-fasce.STG.BT_LOAN_DATA')"
   ]
  },
  {
   "cell_type": "code",
   "execution_count": null,
   "metadata": {},
   "outputs": [],
   "source": [
    "client.insert_rows_from_dataframe(table=table, dataframe=df )"
   ]
  },
  {
   "cell_type": "code",
   "execution_count": null,
   "metadata": {},
   "outputs": [],
   "source": [
    "\n"
   ]
  },
  {
   "cell_type": "code",
   "execution_count": 94,
   "metadata": {},
   "outputs": [],
   "source": [
    "query=\"\"\"select * from sofia-fasce.PROD.BT_RECURRENCE\"\"\"\n",
    "rows=client.query(query).result()\n"
   ]
  },
  {
   "cell_type": "code",
   "execution_count": 95,
   "metadata": {},
   "outputs": [],
   "source": []
  },
  {
   "cell_type": "code",
   "execution_count": 96,
   "metadata": {},
   "outputs": [],
   "source": [
    "df=pd.DataFrame(df_ok)"
   ]
  },
  {
   "cell_type": "code",
   "execution_count": 97,
   "metadata": {},
   "outputs": [
    {
     "data": {
      "text/plain": [
       "4908"
      ]
     },
     "execution_count": 97,
     "metadata": {},
     "output_type": "execute_result"
    }
   ],
   "source": [
    "len(df)"
   ]
  },
  {
   "cell_type": "code",
   "execution_count": 98,
   "metadata": {},
   "outputs": [],
   "source": [
    "df.to_csv('RECURRENCE.csv',index=False)"
   ]
  },
  {
   "cell_type": "code",
   "execution_count": 99,
   "metadata": {},
   "outputs": [
    {
     "data": {
      "text/html": [
       "<div>\n",
       "<style scoped>\n",
       "    .dataframe tbody tr th:only-of-type {\n",
       "        vertical-align: middle;\n",
       "    }\n",
       "\n",
       "    .dataframe tbody tr th {\n",
       "        vertical-align: top;\n",
       "    }\n",
       "\n",
       "    .dataframe thead th {\n",
       "        text-align: right;\n",
       "    }\n",
       "</style>\n",
       "<table border=\"1\" class=\"dataframe\">\n",
       "  <thead>\n",
       "    <tr style=\"text-align: right;\">\n",
       "      <th></th>\n",
       "      <th>customer_id</th>\n",
       "      <th>loan_id</th>\n",
       "      <th>recurrence_1</th>\n",
       "      <th>recurrence_2</th>\n",
       "    </tr>\n",
       "  </thead>\n",
       "  <tbody>\n",
       "    <tr>\n",
       "      <th>1887</th>\n",
       "      <td>6192ggi9zy2y6zh9001z31xg</td>\n",
       "      <td>loan_9783765</td>\n",
       "      <td>1</td>\n",
       "      <td>False</td>\n",
       "    </tr>\n",
       "    <tr>\n",
       "      <th>687</th>\n",
       "      <td>623z22y4364209z6zyi3i7yh</td>\n",
       "      <td>loan_8741556</td>\n",
       "      <td>1</td>\n",
       "      <td>False</td>\n",
       "    </tr>\n",
       "    <tr>\n",
       "      <th>4169</th>\n",
       "      <td>618y5hz9i02z4ziy65hhxx15</td>\n",
       "      <td>loan_8726866</td>\n",
       "      <td>3</td>\n",
       "      <td>True</td>\n",
       "    </tr>\n",
       "    <tr>\n",
       "      <th>2740</th>\n",
       "      <td>59x52yzg1ih2917h0096h3y5</td>\n",
       "      <td>loan_0524735</td>\n",
       "      <td>1</td>\n",
       "      <td>False</td>\n",
       "    </tr>\n",
       "    <tr>\n",
       "      <th>3520</th>\n",
       "      <td>6163211891184gz62z0442yg</td>\n",
       "      <td>loan_3629438</td>\n",
       "      <td>2</td>\n",
       "      <td>True</td>\n",
       "    </tr>\n",
       "    <tr>\n",
       "      <th>2417</th>\n",
       "      <td>621h535g04257xh5i8g1x575</td>\n",
       "      <td>loan_1954761</td>\n",
       "      <td>1</td>\n",
       "      <td>False</td>\n",
       "    </tr>\n",
       "    <tr>\n",
       "      <th>2452</th>\n",
       "      <td>625661264hx3785yxx19g590</td>\n",
       "      <td>loan_0325728</td>\n",
       "      <td>1</td>\n",
       "      <td>False</td>\n",
       "    </tr>\n",
       "    <tr>\n",
       "      <th>2486</th>\n",
       "      <td>619h5811g0281z1x3zg53i83</td>\n",
       "      <td>loan_7836170</td>\n",
       "      <td>1</td>\n",
       "      <td>False</td>\n",
       "    </tr>\n",
       "    <tr>\n",
       "      <th>1508</th>\n",
       "      <td>619x95530x9y1xg05g45h898</td>\n",
       "      <td>loan_9481881</td>\n",
       "      <td>1</td>\n",
       "      <td>False</td>\n",
       "    </tr>\n",
       "    <tr>\n",
       "      <th>808</th>\n",
       "      <td>61i7ih2510h240250852x0gz</td>\n",
       "      <td>loan_7194574</td>\n",
       "      <td>1</td>\n",
       "      <td>False</td>\n",
       "    </tr>\n",
       "  </tbody>\n",
       "</table>\n",
       "</div>"
      ],
      "text/plain": [
       "                   customer_id       loan_id  recurrence_1  recurrence_2\n",
       "1887  6192ggi9zy2y6zh9001z31xg  loan_9783765             1         False\n",
       "687   623z22y4364209z6zyi3i7yh  loan_8741556             1         False\n",
       "4169  618y5hz9i02z4ziy65hhxx15  loan_8726866             3          True\n",
       "2740  59x52yzg1ih2917h0096h3y5  loan_0524735             1         False\n",
       "3520  6163211891184gz62z0442yg  loan_3629438             2          True\n",
       "2417  621h535g04257xh5i8g1x575  loan_1954761             1         False\n",
       "2452  625661264hx3785yxx19g590  loan_0325728             1         False\n",
       "2486  619h5811g0281z1x3zg53i83  loan_7836170             1         False\n",
       "1508  619x95530x9y1xg05g45h898  loan_9481881             1         False\n",
       "808   61i7ih2510h240250852x0gz  loan_7194574             1         False"
      ]
     },
     "execution_count": 99,
     "metadata": {},
     "output_type": "execute_result"
    }
   ],
   "source": [
    "df.sample(10)"
   ]
  },
  {
   "cell_type": "code",
   "execution_count": null,
   "metadata": {},
   "outputs": [],
   "source": []
  }
 ],
 "metadata": {
  "interpreter": {
   "hash": "731fec3db3632c743b89796a82735ecdcbd277e70861af8cca5a8f0bd094bd5b"
  },
  "kernelspec": {
   "display_name": "Python 3.8.9 ('venv': venv)",
   "language": "python",
   "name": "python3"
  },
  "language_info": {
   "codemirror_mode": {
    "name": "ipython",
    "version": 3
   },
   "file_extension": ".py",
   "mimetype": "text/x-python",
   "name": "python",
   "nbconvert_exporter": "python",
   "pygments_lexer": "ipython3",
   "version": "3.8.9"
  },
  "orig_nbformat": 4
 },
 "nbformat": 4,
 "nbformat_minor": 2
}
