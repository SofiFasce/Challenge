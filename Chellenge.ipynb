{
 "cells": [
  {
   "cell_type": "code",
   "execution_count": 29,
   "metadata": {},
   "outputs": [],
   "source": [
    "import json\n",
    "import os\n",
    "\n",
    "import numpy as np\n",
    "from datetime import datetime,date\n",
    "from utils.gcp import GoogleSheetsClient\n",
    "import pandas as pd\n",
    "import json\n",
    "import numpy as np\n",
    "\n"
   ]
  },
  {
   "cell_type": "markdown",
   "metadata": {},
   "source": [
    "### Bigquery client\n",
    "\n",
    "The content of the gcp.json file must be replaced by the file sent in the mail. This file must contain the key of the service account."
   ]
  },
  {
   "cell_type": "code",
   "execution_count": 30,
   "metadata": {},
   "outputs": [],
   "source": [
    "from google.cloud import bigquery\n",
    "os.environ['GOOGLE_APPLICATION_CREDENTIALS']='utils/gcp.json'\n",
    "\n",
    "with open(os.environ.get('GOOGLE_APPLICATION_CREDENTIALS')) as f:\n",
    "   secret = json.load(f)\n",
    "\n",
    "client = bigquery.Client()\n",
    "cliente_sheet=GoogleSheetsClient(secret)"
   ]
  },
  {
   "cell_type": "code",
   "execution_count": 31,
   "metadata": {},
   "outputs": [],
   "source": [
    "def execute_response(client,query):\n",
    "    rows=client.query(query).result()\n",
    "    df=[dict(row) for row in rows]\n",
    "    return df"
   ]
  },
  {
   "cell_type": "markdown",
   "metadata": {},
   "source": [
    "### Data Manipulation And Cleaning\n",
    "Read .csv with Pandas, clean date formats, and replace the NAN values ​​with None, so that they are empty in the table"
   ]
  },
  {
   "cell_type": "markdown",
   "metadata": {},
   "source": [
    "#### Loan Data"
   ]
  },
  {
   "cell_type": "code",
   "execution_count": 33,
   "metadata": {},
   "outputs": [
    {
     "data": {
      "text/html": [
       "<div>\n",
       "<style scoped>\n",
       "    .dataframe tbody tr th:only-of-type {\n",
       "        vertical-align: middle;\n",
       "    }\n",
       "\n",
       "    .dataframe tbody tr th {\n",
       "        vertical-align: top;\n",
       "    }\n",
       "\n",
       "    .dataframe thead th {\n",
       "        text-align: right;\n",
       "    }\n",
       "</style>\n",
       "<table border=\"1\" class=\"dataframe\">\n",
       "  <thead>\n",
       "    <tr style=\"text-align: right;\">\n",
       "      <th></th>\n",
       "      <th>customer_id</th>\n",
       "      <th>loan_id</th>\n",
       "      <th>application_date</th>\n",
       "      <th>term</th>\n",
       "      <th>disbursed_date</th>\n",
       "      <th>loanamount</th>\n",
       "      <th>paid_date</th>\n",
       "      <th>is_disbursed</th>\n",
       "    </tr>\n",
       "  </thead>\n",
       "  <tbody>\n",
       "    <tr>\n",
       "      <th>11617</th>\n",
       "      <td>61z2529z0h37hzyg296hy295</td>\n",
       "      <td>loan_0317522</td>\n",
       "      <td>27/11/21 10:00</td>\n",
       "      <td>NaN</td>\n",
       "      <td>NaN</td>\n",
       "      <td>7299.2700</td>\n",
       "      <td>NaN</td>\n",
       "      <td>False</td>\n",
       "    </tr>\n",
       "    <tr>\n",
       "      <th>710</th>\n",
       "      <td>5y33961839754g6y5yi976g2</td>\n",
       "      <td>loan_8139574</td>\n",
       "      <td>07/01/22 19:26</td>\n",
       "      <td>6.0</td>\n",
       "      <td>NaN</td>\n",
       "      <td>862.8600</td>\n",
       "      <td>NaN</td>\n",
       "      <td>False</td>\n",
       "    </tr>\n",
       "    <tr>\n",
       "      <th>11851</th>\n",
       "      <td>619hg6yz9g5176943892531i</td>\n",
       "      <td>loan_6997123</td>\n",
       "      <td>23/11/21 21:51</td>\n",
       "      <td>2.0</td>\n",
       "      <td>23/11/21</td>\n",
       "      <td>2608.3265</td>\n",
       "      <td>29/12/21</td>\n",
       "      <td>True</td>\n",
       "    </tr>\n",
       "    <tr>\n",
       "      <th>2586</th>\n",
       "      <td>61yi3y4yg592g9x253y243i7</td>\n",
       "      <td>loan_0991957</td>\n",
       "      <td>15/03/22 18:20</td>\n",
       "      <td>4.0</td>\n",
       "      <td>15/03/22</td>\n",
       "      <td>698.6100</td>\n",
       "      <td>NaN</td>\n",
       "      <td>True</td>\n",
       "    </tr>\n",
       "    <tr>\n",
       "      <th>11614</th>\n",
       "      <td>617g16i4i14y6458y8hh504y</td>\n",
       "      <td>loan_5319295</td>\n",
       "      <td>01/02/22 23:45</td>\n",
       "      <td>NaN</td>\n",
       "      <td>NaN</td>\n",
       "      <td>9343.2700</td>\n",
       "      <td>NaN</td>\n",
       "      <td>False</td>\n",
       "    </tr>\n",
       "  </tbody>\n",
       "</table>\n",
       "</div>"
      ],
      "text/plain": [
       "                    customer_id       loan_id application_date  term  \\\n",
       "11617  61z2529z0h37hzyg296hy295  loan_0317522   27/11/21 10:00   NaN   \n",
       "710    5y33961839754g6y5yi976g2  loan_8139574   07/01/22 19:26   6.0   \n",
       "11851  619hg6yz9g5176943892531i  loan_6997123   23/11/21 21:51   2.0   \n",
       "2586   61yi3y4yg592g9x253y243i7  loan_0991957   15/03/22 18:20   4.0   \n",
       "11614  617g16i4i14y6458y8hh504y  loan_5319295   01/02/22 23:45   NaN   \n",
       "\n",
       "      disbursed_date  loanamount paid_date  is_disbursed  \n",
       "11617            NaN   7299.2700       NaN         False  \n",
       "710              NaN    862.8600       NaN         False  \n",
       "11851       23/11/21   2608.3265  29/12/21          True  \n",
       "2586        15/03/22    698.6100       NaN          True  \n",
       "11614            NaN   9343.2700       NaN         False  "
      ]
     },
     "execution_count": 33,
     "metadata": {},
     "output_type": "execute_result"
    }
   ],
   "source": [
    "loan=pd.read_csv('files/loan_data.csv')\n",
    "loan.sample(5)\n",
    "\n",
    "\n"
   ]
  },
  {
   "cell_type": "code",
   "execution_count": 34,
   "metadata": {},
   "outputs": [
    {
     "data": {
      "text/html": [
       "<div>\n",
       "<style scoped>\n",
       "    .dataframe tbody tr th:only-of-type {\n",
       "        vertical-align: middle;\n",
       "    }\n",
       "\n",
       "    .dataframe tbody tr th {\n",
       "        vertical-align: top;\n",
       "    }\n",
       "\n",
       "    .dataframe thead th {\n",
       "        text-align: right;\n",
       "    }\n",
       "</style>\n",
       "<table border=\"1\" class=\"dataframe\">\n",
       "  <thead>\n",
       "    <tr style=\"text-align: right;\">\n",
       "      <th></th>\n",
       "      <th>customer_id</th>\n",
       "      <th>loan_id</th>\n",
       "      <th>application_date</th>\n",
       "      <th>term</th>\n",
       "      <th>disbursed_date</th>\n",
       "      <th>loanamount</th>\n",
       "      <th>paid_date</th>\n",
       "      <th>is_disbursed</th>\n",
       "    </tr>\n",
       "  </thead>\n",
       "  <tbody>\n",
       "    <tr>\n",
       "      <th>12385</th>\n",
       "      <td>61g674hhg3874i4yz6y16z2z</td>\n",
       "      <td>loan_5963323</td>\n",
       "      <td>2022/01/27 01:03</td>\n",
       "      <td>8.0</td>\n",
       "      <td>2022/01/27</td>\n",
       "      <td>4253.71</td>\n",
       "      <td>None</td>\n",
       "      <td>True</td>\n",
       "    </tr>\n",
       "    <tr>\n",
       "      <th>10098</th>\n",
       "      <td>6176ziziig1hh684hg1x9574</td>\n",
       "      <td>loan_0095691</td>\n",
       "      <td>2022/03/29 19:42</td>\n",
       "      <td>8.0</td>\n",
       "      <td>2022/03/30</td>\n",
       "      <td>959.22</td>\n",
       "      <td>None</td>\n",
       "      <td>True</td>\n",
       "    </tr>\n",
       "    <tr>\n",
       "      <th>12756</th>\n",
       "      <td>6188y3xi8i3i4zy95x06i20y</td>\n",
       "      <td>loan_4453860</td>\n",
       "      <td>2021/11/10 19:02</td>\n",
       "      <td>8.0</td>\n",
       "      <td>2021/11/10</td>\n",
       "      <td>6204.27</td>\n",
       "      <td>None</td>\n",
       "      <td>True</td>\n",
       "    </tr>\n",
       "    <tr>\n",
       "      <th>290</th>\n",
       "      <td>617g4888761zhggy2yh537z0</td>\n",
       "      <td>loan_2630434</td>\n",
       "      <td>2021/11/15 17:08</td>\n",
       "      <td>None</td>\n",
       "      <td>None</td>\n",
       "      <td>656.343</td>\n",
       "      <td>None</td>\n",
       "      <td>False</td>\n",
       "    </tr>\n",
       "    <tr>\n",
       "      <th>11310</th>\n",
       "      <td>61yg947x9i49h8ghg33ixg6z</td>\n",
       "      <td>loan_4743822</td>\n",
       "      <td>2022/03/31 22:30</td>\n",
       "      <td>None</td>\n",
       "      <td>None</td>\n",
       "      <td>290.54</td>\n",
       "      <td>None</td>\n",
       "      <td>False</td>\n",
       "    </tr>\n",
       "  </tbody>\n",
       "</table>\n",
       "</div>"
      ],
      "text/plain": [
       "                    customer_id       loan_id  application_date  term  \\\n",
       "12385  61g674hhg3874i4yz6y16z2z  loan_5963323  2022/01/27 01:03   8.0   \n",
       "10098  6176ziziig1hh684hg1x9574  loan_0095691  2022/03/29 19:42   8.0   \n",
       "12756  6188y3xi8i3i4zy95x06i20y  loan_4453860  2021/11/10 19:02   8.0   \n",
       "290    617g4888761zhggy2yh537z0  loan_2630434  2021/11/15 17:08  None   \n",
       "11310  61yg947x9i49h8ghg33ixg6z  loan_4743822  2022/03/31 22:30  None   \n",
       "\n",
       "      disbursed_date loanamount paid_date  is_disbursed  \n",
       "12385     2022/01/27    4253.71      None          True  \n",
       "10098     2022/03/30     959.22      None          True  \n",
       "12756     2021/11/10    6204.27      None          True  \n",
       "290             None    656.343      None         False  \n",
       "11310           None     290.54      None         False  "
      ]
     },
     "execution_count": 34,
     "metadata": {},
     "output_type": "execute_result"
    }
   ],
   "source": [
    "loan['application_date']=pd.to_datetime(loan['application_date'], format='%d/%m/%y %H:%M').dt.strftime(\"%Y/%m/%d %H:%M\")\n",
    "loan['disbursed_date']=pd.to_datetime(loan['disbursed_date'], format='%d/%m/%y').dt.strftime(\"%Y/%m/%d\")\n",
    "loan['paid_date']=pd.to_datetime(loan['paid_date'], format='%d/%m/%y').dt.strftime(\"%Y/%m/%d\")\n",
    "loan.replace({np.nan: None}, inplace = True)\n",
    "loan.sample(5)"
   ]
  },
  {
   "cell_type": "markdown",
   "metadata": {},
   "source": [
    "### Repayment Data"
   ]
  },
  {
   "cell_type": "code",
   "execution_count": null,
   "metadata": {},
   "outputs": [],
   "source": [
    "repayment=pd.read_csv('files/repayment_data.csv')\n",
    "repayment.sample(5)"
   ]
  },
  {
   "cell_type": "code",
   "execution_count": 17,
   "metadata": {},
   "outputs": [],
   "source": [
    "\n",
    "\n",
    "repayment['installment_duedate']=pd.to_datetime(repayment['installment_duedate'], format='%Y-%m-%d').dt.strftime(\"%Y-%m-%d\")\n",
    "repayment['repaid_date']=pd.to_datetime(repayment['repaid_date'], format='%Y-%m-%d').dt.strftime(\"%Y-%m-%d\")\n",
    "repayment.replace({np.nan: None}, inplace = True)\n",
    "\n",
    "repayment.sample(5)\n"
   ]
  },
  {
   "cell_type": "markdown",
   "metadata": {},
   "source": [
    "## Export data to google sheets\n",
    "In bigquery there are two tables that are fed from the gsheets that I export:\n",
    "- `sofia-fasce.STG.BT_LOAN_DATA`\n",
    "- `sofia-fasce.STG.BT_REPAYMENT_DATA` \n",
    "\n",
    "The initial idea was to perform the data update directly from python without going through gsheet. But in the trial version this is not available\n"
   ]
  },
  {
   "cell_type": "code",
   "execution_count": 19,
   "metadata": {},
   "outputs": [],
   "source": [
    "sheets_id_loan='10v9266PP-kRDvJLucrrhdGv5U1NWrzFr_gC9ASz747c'\n",
    "sheet_id_repayment='1ypPjTFlYmywHATaznm9E8oCrDeSA_cGc7wL3PpDDors'"
   ]
  },
  {
   "cell_type": "markdown",
   "metadata": {},
   "source": [
    "Clean the gsheet files if we want to reprocess."
   ]
  },
  {
   "cell_type": "code",
   "execution_count": 38,
   "metadata": {},
   "outputs": [
    {
     "data": {
      "text/plain": [
       "{'spreadsheetId': '1ypPjTFlYmywHATaznm9E8oCrDeSA_cGc7wL3PpDDors',\n",
       " 'replies': [{}]}"
      ]
     },
     "execution_count": 38,
     "metadata": {},
     "output_type": "execute_result"
    }
   ],
   "source": [
    "cliente_sheet.delete_columns(sheets_id_loan, 'loan_data', 0,len(loan.columns))\n",
    "cliente_sheet.delete_columns(sheet_id_repayment, 'repayment_data', 0,len(repayment.columns))"
   ]
  },
  {
   "cell_type": "markdown",
   "metadata": {},
   "source": [
    "Upload dataframes in Gsheets. The tables will be automatically fed with the new information\n"
   ]
  },
  {
   "cell_type": "code",
   "execution_count": 39,
   "metadata": {},
   "outputs": [
    {
     "data": {
      "text/plain": [
       "{'spreadsheetId': '10v9266PP-kRDvJLucrrhdGv5U1NWrzFr_gC9ASz747c',\n",
       " 'updates': {'spreadsheetId': '10v9266PP-kRDvJLucrrhdGv5U1NWrzFr_gC9ASz747c',\n",
       "  'updatedRange': 'loan_data!A1:H13168',\n",
       "  'updatedRows': 13168,\n",
       "  'updatedColumns': 8,\n",
       "  'updatedCells': 78422}}"
      ]
     },
     "execution_count": 39,
     "metadata": {},
     "output_type": "execute_result"
    }
   ],
   "source": [
    "\n",
    "cliente_sheet.upload_dataframe_to_spreadsheet(\n",
    "    loan, sheets_id_loan, tab_name=f\"loan_data\", start_cell=\"A1\"\n",
    ")"
   ]
  },
  {
   "cell_type": "code",
   "execution_count": 40,
   "metadata": {},
   "outputs": [
    {
     "data": {
      "text/plain": [
       "{'spreadsheetId': '1ypPjTFlYmywHATaznm9E8oCrDeSA_cGc7wL3PpDDors',\n",
       " 'updates': {'spreadsheetId': '1ypPjTFlYmywHATaznm9E8oCrDeSA_cGc7wL3PpDDors',\n",
       "  'updatedRange': 'repayment_data!A1:H29437',\n",
       "  'updatedRows': 29437,\n",
       "  'updatedColumns': 8,\n",
       "  'updatedCells': 222840}}"
      ]
     },
     "execution_count": 40,
     "metadata": {},
     "output_type": "execute_result"
    }
   ],
   "source": [
    "\n",
    "cliente_sheet.upload_dataframe_to_spreadsheet(\n",
    "    repayment, sheet_id_repayment, tab_name=\"repayment_data\", start_cell=\"A1\"\n",
    ")"
   ]
  },
  {
   "cell_type": "markdown",
   "metadata": {},
   "source": [
    "If necessary, Grant permissions to the gsheet files."
   ]
  },
  {
   "cell_type": "code",
   "execution_count": 41,
   "metadata": {},
   "outputs": [
    {
     "data": {
      "text/plain": [
       "{'kind': 'drive#permission',\n",
       " 'id': '15974111209173566003',\n",
       " 'type': 'user',\n",
       " 'role': 'owner'}"
      ]
     },
     "execution_count": 41,
     "metadata": {},
     "output_type": "execute_result"
    }
   ],
   "source": [
    "cliente_sheet.grant_permissions(sheets_id_loan, \"writer\", 'sofia.fsc.challenge@gmail.com')\n",
    "cliente_sheet.grant_permissions(sheet_id_repayment, \"writer\", 'sofia.fsc.challenge@gmail.com')"
   ]
  },
  {
   "cell_type": "markdown",
   "metadata": {},
   "source": [
    "## Creation PROD tables\n",
    "Creation of productive tables (or views) defining the data types of the columns."
   ]
  },
  {
   "cell_type": "code",
   "execution_count": 46,
   "metadata": {},
   "outputs": [
    {
     "data": {
      "text/plain": [
       "<google.cloud.bigquery.job.QueryJob at 0x11fc27eb0>"
      ]
     },
     "execution_count": 46,
     "metadata": {},
     "output_type": "execute_result"
    }
   ],
   "source": [
    "query_productive_loan_data=\"\"\"create or replace table `sofia-fasce.PROD.BT_LOAN_DATA` as \n",
    "                                SELECT customer_id,loan_id,\n",
    "                                DATETIME(application_date, 'America/Mexico_City') as application_date,\n",
    "                                cast(term as int) as term,\n",
    "                                PARSE_DATE ('%Y/%m/%d',disbursed_date) as disbursed_date,\n",
    "                                cast(loanamount as numeric) as loanamount ,\n",
    "                                PARSE_DATE ('%Y/%m/%d',paid_date) as paid_date,\n",
    "                                cast(is_disbursed as bool) as is_disbursed\n",
    "                                FROM `sofia-fasce.STG.BT_LOAN_DATA`\"\"\" \n",
    "\n",
    "client.query(query_productive_loan_data)"
   ]
  },
  {
   "cell_type": "code",
   "execution_count": 49,
   "metadata": {},
   "outputs": [
    {
     "data": {
      "text/plain": [
       "<google.cloud.bigquery.job.QueryJob at 0x11e8a50d0>"
      ]
     },
     "execution_count": 49,
     "metadata": {},
     "output_type": "execute_result"
    }
   ],
   "source": [
    "query_productive_repayment_data= \"\"\"create table `sofia-fasce.PROD.BT_REPAYMENT_DATA` as \n",
    "                                SELECT \n",
    "                                loan_id,\t\n",
    "                                installment_id,\n",
    "                                cast(installment_number as int) as installment_number,\n",
    "                                installment_duedate,\n",
    "                                repaid_date,\n",
    "                                cast(capital_due as numeric) as capital_due ,\n",
    "                                cast(capital_paid as numeric) as capital_paid ,\n",
    "                                cast(interests_paid as numeric) as interests_paid \n",
    "                                FROM `sofia-fasce.STG.BT_REPAYMENT_DATA`\"\"\"\n",
    "client.query(query_productive_repayment_data)"
   ]
  },
  {
   "cell_type": "markdown",
   "metadata": {},
   "source": [
    "## Data manipulation and result table creation\n",
    "- Definition 1. “recurrence_1” (1,2,3,4,...., n):\n",
    "The number of loans disbursed in the client's history at the disbursement date,\n",
    "including the one being disbursed.\n",
    "- Definition 2. “recurrence_2” (TRUE, FALSE):\n",
    "recurrent: A loan is said to be recurrent if, at the disbursement date, the customer\n",
    "has paid any loan in its totality or has paid 3 or more installments of its first loan\n",
    "disbursed."
   ]
  },
  {
   "cell_type": "code",
   "execution_count": 48,
   "metadata": {},
   "outputs": [
    {
     "data": {
      "text/plain": [
       "<google.cloud.bigquery.job.QueryJob at 0x11fc27880>"
      ]
     },
     "execution_count": 48,
     "metadata": {},
     "output_type": "execute_result"
    }
   ],
   "source": [
    "query_recurrence=\"\"\"create table PROD.BT_RECURRENCE AS\n",
    "      WITH loan_data as (\n",
    "                        SELECT a.*,\n",
    "                              ROW_NUMBER() over (partition by customer_id order by disbursed_date) recurrence_1,\n",
    "                              CASE WHEN \n",
    "                                    MIN(paid_date) over (partition by customer_id order by disbursed_date  ROWS UNBOUNDED PRECEDING )\n",
    "                                    <= disbursed_date \n",
    "                              THEN 1 ELSE 0 END as paid_any_loan_last\n",
    "                        FROM `PROD.BT_LOAN_DATA` a\n",
    "                        WHERE is_disbursed=true\n",
    "      ),\n",
    "      repay_complete_data as (\n",
    "                        SELECT a.customer_id,\n",
    "                                a.loan_id,\n",
    "                                a.term,\n",
    "                                a.disbursed_date,\n",
    "                                a.paid_date,\n",
    "                                a.recurrence_1,\n",
    "                                a.paid_any_loan_last,\n",
    "                                b.installment_number,\n",
    "                                b.repaid_date\t\n",
    "                        FROM loan_data a\n",
    "                        JOIN `PROD.BT_REPAYMENT_DATA` b on a.loan_id=b.loan_id\n",
    "      )\n",
    "      SELECT \n",
    "            customer_id,\n",
    "            loan_id,\n",
    "            recurrence_1,\n",
    "            CASE WHEN first_loan_3_or_more_terms=1 or paid_any_loan_last=1 THEN True ELSE False END AS recurrence_2   \n",
    "      FROM  (\n",
    "                  SELECT * ,\n",
    "                  CASE WHEN \n",
    "                        MIN( CASE WHEN recurrence_1=1 AND\tinstallment_number>=3  THEN\trepaid_date ELSE NULL END) \n",
    "                        over(partition by customer_id order by disbursed_date  ROWS UNBOUNDED PRECEDING ) \n",
    "                        <=disbursed_date \n",
    "                  THEN 1 ELSE 0 END AS first_loan_3_or_more_terms\n",
    "                  FROM repay_complete_data\n",
    "            ) GROUP BY 1,2,3,4;\n",
    "\n",
    "\"\"\"\n",
    "client.query(query_recurrence)"
   ]
  },
  {
   "cell_type": "markdown",
   "metadata": {},
   "source": [
    "### Checks "
   ]
  },
  {
   "cell_type": "code",
   "execution_count": 54,
   "metadata": {},
   "outputs": [],
   "source": [
    "query=\"\"\"select count(*) ,count(distinct loan_id)\n",
    "FROM PROD.BT_RECURRENCE\"\"\"\n",
    "df=execute_response(client,query)"
   ]
  },
  {
   "cell_type": "code",
   "execution_count": 51,
   "metadata": {},
   "outputs": [
    {
     "data": {
      "text/plain": [
       "[{'f0_': 4908, 'f1_': 4908}]"
      ]
     },
     "execution_count": 51,
     "metadata": {},
     "output_type": "execute_result"
    }
   ],
   "source": [
    "df"
   ]
  },
  {
   "cell_type": "code",
   "execution_count": 52,
   "metadata": {},
   "outputs": [],
   "source": [
    "query=\"\"\"select count(*) ,count(distinct loan_id)\n",
    "FROM PROD.BT_LOAN_DATA\n",
    "WHERE is_disbursed=true\"\"\"\n",
    "df=execute_response(client,query)\n"
   ]
  },
  {
   "cell_type": "code",
   "execution_count": 53,
   "metadata": {},
   "outputs": [
    {
     "data": {
      "text/plain": [
       "[{'f0_': 4908, 'f1_': 4908}]"
      ]
     },
     "execution_count": 53,
     "metadata": {},
     "output_type": "execute_result"
    }
   ],
   "source": [
    "df"
   ]
  }
 ],
 "metadata": {
  "interpreter": {
   "hash": "731fec3db3632c743b89796a82735ecdcbd277e70861af8cca5a8f0bd094bd5b"
  },
  "kernelspec": {
   "display_name": "Python 3.8.9 ('venv': venv)",
   "language": "python",
   "name": "python3"
  },
  "language_info": {
   "codemirror_mode": {
    "name": "ipython",
    "version": 3
   },
   "file_extension": ".py",
   "mimetype": "text/x-python",
   "name": "python",
   "nbconvert_exporter": "python",
   "pygments_lexer": "ipython3",
   "version": "3.8.9"
  },
  "orig_nbformat": 4
 },
 "nbformat": 4,
 "nbformat_minor": 2
}
