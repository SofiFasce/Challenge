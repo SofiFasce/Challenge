{
  "nbformat": 4,
  "nbformat_minor": 0,
  "metadata": {
    "colab": {
      "provenance": [],
      "collapsed_sections": [],
      "toc_visible": true,
      "mount_file_id": "1gMCjSTYPYF7d_Ngdpmx2fUwbMhj6lf7g",
      "authorship_tag": "ABX9TyP6awNu8+9lCbOivFJzS/S7",
      "include_colab_link": true
    },
    "kernelspec": {
      "name": "python3",
      "display_name": "Python 3"
    },
    "language_info": {
      "name": "python"
    }
  },
  "cells": [
    {
      "cell_type": "markdown",
      "metadata": {
        "id": "view-in-github",
        "colab_type": "text"
      },
      "source": [
        "<a href=\"https://colab.research.google.com/github/SofiFasce/Challenge/blob/main/Challenge.ipynb\" target=\"_parent\"><img src=\"https://colab.research.google.com/assets/colab-badge.svg\" alt=\"Open In Colab\"/></a>"
      ]
    },
    {
      "cell_type": "code",
      "execution_count": 7,
      "metadata": {
        "colab": {
          "base_uri": "https://localhost:8080/"
        },
        "id": "VNT5oo7X7-HC",
        "outputId": "c87d2d13-e24b-4549-8e90-731ec42aef33"
      },
      "outputs": [
        {
          "output_type": "stream",
          "name": "stdout",
          "text": [
            "Drive already mounted at /content/drive; to attempt to forcibly remount, call drive.mount(\"/content/drive\", force_remount=True).\n"
          ]
        }
      ],
      "source": [
        "from google.colab import auth, drive\n",
        "auth.authenticate_user()\n",
        "drive.mount('/content/drive')"
      ]
    },
    {
      "cell_type": "code",
      "source": [
        "project_id='sofia-fasce'"
      ],
      "metadata": {
        "id": "luxiyAo18G0J"
      },
      "execution_count": 8,
      "outputs": []
    },
    {
      "cell_type": "code",
      "source": [
        "from google.cloud import bigquery"
      ],
      "metadata": {
        "id": "7k42f6jf8xF6"
      },
      "execution_count": 9,
      "outputs": []
    },
    {
      "cell_type": "code",
      "source": [
        "client= bigquery.Client(project=project_id)"
      ],
      "metadata": {
        "id": "-P2LWImL83BT"
      },
      "execution_count": 10,
      "outputs": []
    },
    {
      "cell_type": "code",
      "source": [
        "import pandas as pd"
      ],
      "metadata": {
        "id": "ke9Hi7O889cB"
      },
      "execution_count": 11,
      "outputs": []
    },
    {
      "cell_type": "code",
      "source": [
        "df=pd.read_csv('/content/drive/MyDrive/notebooks/loan_data.csv')"
      ],
      "metadata": {
        "id": "EZzOoldjGDsl"
      },
      "execution_count": 12,
      "outputs": []
    },
    {
      "cell_type": "code",
      "source": [
        "df.sample(10)"
      ],
      "metadata": {
        "colab": {
          "base_uri": "https://localhost:8080/",
          "height": 363
        },
        "id": "yXnlOZM7GPhl",
        "outputId": "e2e5e336-cfcc-4ee6-eacc-7d4cd3c437f4"
      },
      "execution_count": 14,
      "outputs": [
        {
          "output_type": "execute_result",
          "data": {
            "text/plain": [
              "                    customer_id       loan_id application_date  term  \\\n",
              "13042  615g650gxh4xy81i5h38zxz0  loan_9185201   02/04/22 23:54   NaN   \n",
              "8534   61zh85y9289375g2723452yx  loan_2541026   05/12/21 21:38   NaN   \n",
              "86     61z2yy5xy9y99xg4958hgxyy  loan_4373126    28/11/21 8:12   6.0   \n",
              "5774   61i975g46418635zx0g90366  loan_7423564   18/02/22 11:04   NaN   \n",
              "12493  618333514y7h3690h7y5ix78  loan_0146470    05/11/21 9:13   NaN   \n",
              "4518   6244g3zx9yizii42z199y49x  loan_7021390    07/04/22 0:29   NaN   \n",
              "4629   61yg8y37gx626i86h9684gxh  loan_2265006   30/01/22 21:50   NaN   \n",
              "1276   6199x0xzxxi1110iz0h4607z  loan_5364700   14/01/22 18:56   4.0   \n",
              "9469   60ii774763z9405664227xxg  loan_7326553   06/04/22 16:17   NaN   \n",
              "4497   615x6x5z85x17i53152ghx60  loan_6802913   12/10/21 22:10   NaN   \n",
              "\n",
              "      disbursed_date  loanamount paid_date  is_disbursed  \n",
              "13042            NaN   5985.2700       NaN         False  \n",
              "8534             NaN   2044.0000       NaN         False  \n",
              "86          28/11/21   1664.1226  06/03/22          True  \n",
              "5774             NaN   4598.2700       NaN         False  \n",
              "12493            NaN    473.7700       NaN         False  \n",
              "4518             NaN   1068.0995       NaN         False  \n",
              "4629             NaN   1021.2700       NaN         False  \n",
              "1276        14/01/22    756.2800  15/03/22          True  \n",
              "9469             NaN   2969.6400       NaN         False  \n",
              "4497             NaN   7737.2700       NaN         False  "
            ],
            "text/html": [
              "\n",
              "  <div id=\"df-bfbe4d1d-509a-4518-aaa9-481e4c8e276e\">\n",
              "    <div class=\"colab-df-container\">\n",
              "      <div>\n",
              "<style scoped>\n",
              "    .dataframe tbody tr th:only-of-type {\n",
              "        vertical-align: middle;\n",
              "    }\n",
              "\n",
              "    .dataframe tbody tr th {\n",
              "        vertical-align: top;\n",
              "    }\n",
              "\n",
              "    .dataframe thead th {\n",
              "        text-align: right;\n",
              "    }\n",
              "</style>\n",
              "<table border=\"1\" class=\"dataframe\">\n",
              "  <thead>\n",
              "    <tr style=\"text-align: right;\">\n",
              "      <th></th>\n",
              "      <th>customer_id</th>\n",
              "      <th>loan_id</th>\n",
              "      <th>application_date</th>\n",
              "      <th>term</th>\n",
              "      <th>disbursed_date</th>\n",
              "      <th>loanamount</th>\n",
              "      <th>paid_date</th>\n",
              "      <th>is_disbursed</th>\n",
              "    </tr>\n",
              "  </thead>\n",
              "  <tbody>\n",
              "    <tr>\n",
              "      <th>13042</th>\n",
              "      <td>615g650gxh4xy81i5h38zxz0</td>\n",
              "      <td>loan_9185201</td>\n",
              "      <td>02/04/22 23:54</td>\n",
              "      <td>NaN</td>\n",
              "      <td>NaN</td>\n",
              "      <td>5985.2700</td>\n",
              "      <td>NaN</td>\n",
              "      <td>False</td>\n",
              "    </tr>\n",
              "    <tr>\n",
              "      <th>8534</th>\n",
              "      <td>61zh85y9289375g2723452yx</td>\n",
              "      <td>loan_2541026</td>\n",
              "      <td>05/12/21 21:38</td>\n",
              "      <td>NaN</td>\n",
              "      <td>NaN</td>\n",
              "      <td>2044.0000</td>\n",
              "      <td>NaN</td>\n",
              "      <td>False</td>\n",
              "    </tr>\n",
              "    <tr>\n",
              "      <th>86</th>\n",
              "      <td>61z2yy5xy9y99xg4958hgxyy</td>\n",
              "      <td>loan_4373126</td>\n",
              "      <td>28/11/21 8:12</td>\n",
              "      <td>6.0</td>\n",
              "      <td>28/11/21</td>\n",
              "      <td>1664.1226</td>\n",
              "      <td>06/03/22</td>\n",
              "      <td>True</td>\n",
              "    </tr>\n",
              "    <tr>\n",
              "      <th>5774</th>\n",
              "      <td>61i975g46418635zx0g90366</td>\n",
              "      <td>loan_7423564</td>\n",
              "      <td>18/02/22 11:04</td>\n",
              "      <td>NaN</td>\n",
              "      <td>NaN</td>\n",
              "      <td>4598.2700</td>\n",
              "      <td>NaN</td>\n",
              "      <td>False</td>\n",
              "    </tr>\n",
              "    <tr>\n",
              "      <th>12493</th>\n",
              "      <td>618333514y7h3690h7y5ix78</td>\n",
              "      <td>loan_0146470</td>\n",
              "      <td>05/11/21 9:13</td>\n",
              "      <td>NaN</td>\n",
              "      <td>NaN</td>\n",
              "      <td>473.7700</td>\n",
              "      <td>NaN</td>\n",
              "      <td>False</td>\n",
              "    </tr>\n",
              "    <tr>\n",
              "      <th>4518</th>\n",
              "      <td>6244g3zx9yizii42z199y49x</td>\n",
              "      <td>loan_7021390</td>\n",
              "      <td>07/04/22 0:29</td>\n",
              "      <td>NaN</td>\n",
              "      <td>NaN</td>\n",
              "      <td>1068.0995</td>\n",
              "      <td>NaN</td>\n",
              "      <td>False</td>\n",
              "    </tr>\n",
              "    <tr>\n",
              "      <th>4629</th>\n",
              "      <td>61yg8y37gx626i86h9684gxh</td>\n",
              "      <td>loan_2265006</td>\n",
              "      <td>30/01/22 21:50</td>\n",
              "      <td>NaN</td>\n",
              "      <td>NaN</td>\n",
              "      <td>1021.2700</td>\n",
              "      <td>NaN</td>\n",
              "      <td>False</td>\n",
              "    </tr>\n",
              "    <tr>\n",
              "      <th>1276</th>\n",
              "      <td>6199x0xzxxi1110iz0h4607z</td>\n",
              "      <td>loan_5364700</td>\n",
              "      <td>14/01/22 18:56</td>\n",
              "      <td>4.0</td>\n",
              "      <td>14/01/22</td>\n",
              "      <td>756.2800</td>\n",
              "      <td>15/03/22</td>\n",
              "      <td>True</td>\n",
              "    </tr>\n",
              "    <tr>\n",
              "      <th>9469</th>\n",
              "      <td>60ii774763z9405664227xxg</td>\n",
              "      <td>loan_7326553</td>\n",
              "      <td>06/04/22 16:17</td>\n",
              "      <td>NaN</td>\n",
              "      <td>NaN</td>\n",
              "      <td>2969.6400</td>\n",
              "      <td>NaN</td>\n",
              "      <td>False</td>\n",
              "    </tr>\n",
              "    <tr>\n",
              "      <th>4497</th>\n",
              "      <td>615x6x5z85x17i53152ghx60</td>\n",
              "      <td>loan_6802913</td>\n",
              "      <td>12/10/21 22:10</td>\n",
              "      <td>NaN</td>\n",
              "      <td>NaN</td>\n",
              "      <td>7737.2700</td>\n",
              "      <td>NaN</td>\n",
              "      <td>False</td>\n",
              "    </tr>\n",
              "  </tbody>\n",
              "</table>\n",
              "</div>\n",
              "      <button class=\"colab-df-convert\" onclick=\"convertToInteractive('df-bfbe4d1d-509a-4518-aaa9-481e4c8e276e')\"\n",
              "              title=\"Convert this dataframe to an interactive table.\"\n",
              "              style=\"display:none;\">\n",
              "        \n",
              "  <svg xmlns=\"http://www.w3.org/2000/svg\" height=\"24px\"viewBox=\"0 0 24 24\"\n",
              "       width=\"24px\">\n",
              "    <path d=\"M0 0h24v24H0V0z\" fill=\"none\"/>\n",
              "    <path d=\"M18.56 5.44l.94 2.06.94-2.06 2.06-.94-2.06-.94-.94-2.06-.94 2.06-2.06.94zm-11 1L8.5 8.5l.94-2.06 2.06-.94-2.06-.94L8.5 2.5l-.94 2.06-2.06.94zm10 10l.94 2.06.94-2.06 2.06-.94-2.06-.94-.94-2.06-.94 2.06-2.06.94z\"/><path d=\"M17.41 7.96l-1.37-1.37c-.4-.4-.92-.59-1.43-.59-.52 0-1.04.2-1.43.59L10.3 9.45l-7.72 7.72c-.78.78-.78 2.05 0 2.83L4 21.41c.39.39.9.59 1.41.59.51 0 1.02-.2 1.41-.59l7.78-7.78 2.81-2.81c.8-.78.8-2.07 0-2.86zM5.41 20L4 18.59l7.72-7.72 1.47 1.35L5.41 20z\"/>\n",
              "  </svg>\n",
              "      </button>\n",
              "      \n",
              "  <style>\n",
              "    .colab-df-container {\n",
              "      display:flex;\n",
              "      flex-wrap:wrap;\n",
              "      gap: 12px;\n",
              "    }\n",
              "\n",
              "    .colab-df-convert {\n",
              "      background-color: #E8F0FE;\n",
              "      border: none;\n",
              "      border-radius: 50%;\n",
              "      cursor: pointer;\n",
              "      display: none;\n",
              "      fill: #1967D2;\n",
              "      height: 32px;\n",
              "      padding: 0 0 0 0;\n",
              "      width: 32px;\n",
              "    }\n",
              "\n",
              "    .colab-df-convert:hover {\n",
              "      background-color: #E2EBFA;\n",
              "      box-shadow: 0px 1px 2px rgba(60, 64, 67, 0.3), 0px 1px 3px 1px rgba(60, 64, 67, 0.15);\n",
              "      fill: #174EA6;\n",
              "    }\n",
              "\n",
              "    [theme=dark] .colab-df-convert {\n",
              "      background-color: #3B4455;\n",
              "      fill: #D2E3FC;\n",
              "    }\n",
              "\n",
              "    [theme=dark] .colab-df-convert:hover {\n",
              "      background-color: #434B5C;\n",
              "      box-shadow: 0px 1px 3px 1px rgba(0, 0, 0, 0.15);\n",
              "      filter: drop-shadow(0px 1px 2px rgba(0, 0, 0, 0.3));\n",
              "      fill: #FFFFFF;\n",
              "    }\n",
              "  </style>\n",
              "\n",
              "      <script>\n",
              "        const buttonEl =\n",
              "          document.querySelector('#df-bfbe4d1d-509a-4518-aaa9-481e4c8e276e button.colab-df-convert');\n",
              "        buttonEl.style.display =\n",
              "          google.colab.kernel.accessAllowed ? 'block' : 'none';\n",
              "\n",
              "        async function convertToInteractive(key) {\n",
              "          const element = document.querySelector('#df-bfbe4d1d-509a-4518-aaa9-481e4c8e276e');\n",
              "          const dataTable =\n",
              "            await google.colab.kernel.invokeFunction('convertToInteractive',\n",
              "                                                     [key], {});\n",
              "          if (!dataTable) return;\n",
              "\n",
              "          const docLinkHtml = 'Like what you see? Visit the ' +\n",
              "            '<a target=\"_blank\" href=https://colab.research.google.com/notebooks/data_table.ipynb>data table notebook</a>'\n",
              "            + ' to learn more about interactive tables.';\n",
              "          element.innerHTML = '';\n",
              "          dataTable['output_type'] = 'display_data';\n",
              "          await google.colab.output.renderOutput(dataTable, element);\n",
              "          const docLink = document.createElement('div');\n",
              "          docLink.innerHTML = docLinkHtml;\n",
              "          element.appendChild(docLink);\n",
              "        }\n",
              "      </script>\n",
              "    </div>\n",
              "  </div>\n",
              "  "
            ]
          },
          "metadata": {},
          "execution_count": 14
        }
      ]
    },
    {
      "cell_type": "code",
      "source": [
        "import sys\n",
        "sys.path.append('/content/drive/MyDrive/notebooks')"
      ],
      "metadata": {
        "id": "wjdZQpLJHqF6"
      },
      "execution_count": 16,
      "outputs": []
    },
    {
      "cell_type": "code",
      "source": [
        "CREATE TABLE `example-mdi.myData_1.ST` (\n",
        "  `ADDRESS_ID` STRING,\n",
        "  `INDIVIDUAL_ID` STRING,\n",
        "  `FIRST_NAME` STRING,\n",
        "  `LAST_NAME` STRING,\n",
        "  ...\n",
        ");"
      ],
      "metadata": {
        "id": "flmaT1KsIbAZ"
      },
      "execution_count": null,
      "outputs": []
    },
    {
      "cell_type": "code",
      "source": [
        "query=\"\"\"create table sofia-fasce.STG.BT_SAMPLE (\n",
        "  NAME STRING,\n",
        "  AGE INT64\n",
        "  )\"\"\""
      ],
      "metadata": {
        "id": "sPr-FvmeIDDh"
      },
      "execution_count": 24,
      "outputs": []
    },
    {
      "cell_type": "code",
      "source": [
        "\n",
        "client.query(query).result()"
      ],
      "metadata": {
        "colab": {
          "base_uri": "https://localhost:8080/"
        },
        "id": "QHQGwyDzGQkY",
        "outputId": "13529bd1-ea38-4bba-8069-cfeb31933a22"
      },
      "execution_count": 25,
      "outputs": [
        {
          "output_type": "execute_result",
          "data": {
            "text/plain": [
              "<google.cloud.bigquery.table._EmptyRowIterator at 0x7fc23fc9fcd0>"
            ]
          },
          "metadata": {},
          "execution_count": 25
        }
      ]
    },
    {
      "cell_type": "code",
      "source": [],
      "metadata": {
        "id": "csgQh9hFHZqT"
      },
      "execution_count": null,
      "outputs": []
    }
  ]
}